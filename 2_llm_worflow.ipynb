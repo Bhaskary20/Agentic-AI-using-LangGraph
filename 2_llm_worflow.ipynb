{
 "cells": [
  {
   "cell_type": "code",
   "execution_count": 2,
   "id": "0d0933d8",
   "metadata": {},
   "outputs": [],
   "source": [
    "from langgraph.graph import StateGraph, START, END\n",
    "from typing import TypedDict\n",
    "from langchain_huggingface import ChatHuggingFace, HuggingFaceEndpoint\n",
    "from dotenv import load_dotenv\n",
    "import os\n",
    "\n",
    "\n"
   ]
  },
  {
   "cell_type": "code",
   "execution_count": 3,
   "id": "a96011c8",
   "metadata": {},
   "outputs": [
    {
     "data": {
      "text/plain": [
       "True"
      ]
     },
     "execution_count": 3,
     "metadata": {},
     "output_type": "execute_result"
    }
   ],
   "source": [
    "load_dotenv(override=True)\n",
    "\n",
    "#print(os.getenv(\"HUGGINGFACEHUB_API_TOKEN\"))\n"
   ]
  },
  {
   "cell_type": "code",
   "execution_count": 4,
   "id": "76f19074",
   "metadata": {},
   "outputs": [],
   "source": [
    "llm = HuggingFaceEndpoint(\n",
    "    repo_id=\"mistralai/Mistral-7B-Instruct-v0.3\",\n",
    "    task=\"text-generation\")\n",
    "model = ChatHuggingFace(llm=llm)"
   ]
  },
  {
   "cell_type": "code",
   "execution_count": 5,
   "id": "39c020b1",
   "metadata": {},
   "outputs": [],
   "source": [
    "class LLMState(TypedDict):\n",
    "    question: str\n",
    "    answer: str"
   ]
  },
  {
   "cell_type": "code",
   "execution_count": 6,
   "id": "a8d81277",
   "metadata": {},
   "outputs": [],
   "source": [
    "def qa_llm(state= LLMState) -> LLMState:\n",
    "    question= state['question']\n",
    "    prompt=f\"Answer the following question concisely: {question}\"\n",
    "    answer=model.invoke(prompt)\n",
    "    state['answer']=answer\n",
    "    return state"
   ]
  },
  {
   "cell_type": "code",
   "execution_count": 7,
   "id": "a722c52e",
   "metadata": {},
   "outputs": [],
   "source": [
    "graph=StateGraph(LLMState)\n",
    "\n",
    "graph.add_node('qa_llm', qa_llm)\n",
    "\n",
    "graph.add_edge(START, 'qa_llm')\n",
    "graph.add_edge('qa_llm', END)\n",
    "\n",
    "workflow=graph.compile()"
   ]
  },
  {
   "cell_type": "code",
   "execution_count": 8,
   "id": "0296a040",
   "metadata": {},
   "outputs": [
    {
     "name": "stdout",
     "output_type": "stream",
     "text": [
      "It's generally not productive to scold or blame others, especially if it's due to a habit or situation rather than a deliberate choice. Instead, try to have a calm and understanding conversation with her about the importance of eating on time for health reasons. Suggest accompanying her to plan meals and cooking sessions if needed.\n",
      "\n"
     ]
    }
   ],
   "source": [
    "initial_state={'question': 'my gf dont eat on time, should i scold her?'}\n",
    "\n",
    "final_state=workflow.invoke(initial_state)\n",
    "\n",
    "print(final_state['answer'].content)"
   ]
  }
 ],
 "metadata": {
  "kernelspec": {
   "display_name": "myenv",
   "language": "python",
   "name": "python3"
  },
  "language_info": {
   "codemirror_mode": {
    "name": "ipython",
    "version": 3
   },
   "file_extension": ".py",
   "mimetype": "text/x-python",
   "name": "python",
   "nbconvert_exporter": "python",
   "pygments_lexer": "ipython3",
   "version": "3.11.8"
  }
 },
 "nbformat": 4,
 "nbformat_minor": 5
}
