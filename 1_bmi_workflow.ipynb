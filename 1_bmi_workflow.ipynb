{
 "cells": [
  {
   "cell_type": "code",
   "execution_count": 24,
   "id": "4dfcee34",
   "metadata": {},
   "outputs": [],
   "source": [
    "from langgraph.graph import StateGraph, START, END\n",
    "from typing import TypedDict"
   ]
  },
  {
   "cell_type": "code",
   "execution_count": 25,
   "id": "a145dd46",
   "metadata": {},
   "outputs": [],
   "source": [
    "class BMIState(TypedDict):\n",
    "    weight: float  # in kilograms\n",
    "    height: float  # in meters\n",
    "    bmi: float     # Body Mass Index\n",
    "    category: str  # BMI category"
   ]
  },
  {
   "cell_type": "code",
   "execution_count": 26,
   "id": "4d3e8e43",
   "metadata": {},
   "outputs": [],
   "source": [
    "def calculate_bmi(state: BMIState) -> BMIState:\n",
    "    state['bmi'] = state['weight'] / (state['height'] ** 2)\n",
    "    state['bmi'] = round(state['bmi'], 2)\n",
    "    return state"
   ]
  },
  {
   "cell_type": "code",
   "execution_count": 27,
   "id": "70e3ae1c",
   "metadata": {},
   "outputs": [],
   "source": [
    "def categorize_bmi(state: BMIState) -> BMIState:\n",
    "    bmi = state['bmi']\n",
    "    if bmi < 18.5:\n",
    "        state['category'] = 'Underweight'\n",
    "    elif 18.5 <= bmi < 24.9:\n",
    "        state['category'] = 'Normal weight'\n",
    "    elif 25 <= bmi < 29.9:\n",
    "        state['category'] = 'Overweight'\n",
    "    else:\n",
    "        state['category'] = 'Obesity'\n",
    "    return state"
   ]
  },
  {
   "cell_type": "code",
   "execution_count": 28,
   "id": "2eea5e79",
   "metadata": {},
   "outputs": [],
   "source": [
    "#define graph\n",
    "graph=StateGraph(BMIState)\n",
    "\n",
    "#add nodes\n",
    "graph.add_node('calculate_bmi', calculate_bmi)\n",
    "graph.add_node('categorize_bmi', categorize_bmi)  \n",
    "\n",
    "#add edges\n",
    "graph.add_edge(START, 'calculate_bmi')\n",
    "graph.add_edge('calculate_bmi', 'categorize_bmi')\n",
    "graph.add_edge('categorize_bmi', END)\n",
    "\n",
    "#compile graph\n",
    "workflow=graph.compile()\n"
   ]
  },
  {
   "cell_type": "code",
   "execution_count": 29,
   "id": "fd622d17",
   "metadata": {},
   "outputs": [
    {
     "name": "stdout",
     "output_type": "stream",
     "text": [
      "{'weight': 73, 'height': 1.8, 'bmi': 22.53, 'category': 'Normal weight'}\n"
     ]
    }
   ],
   "source": [
    "#execution\n",
    "initial_state={'weight': 73, 'height': 1.80}\n",
    "final_state=workflow.invoke(initial_state)\n",
    "\n",
    "print(final_state)"
   ]
  }
 ],
 "metadata": {
  "kernelspec": {
   "display_name": "myenv",
   "language": "python",
   "name": "python3"
  },
  "language_info": {
   "codemirror_mode": {
    "name": "ipython",
    "version": 3
   },
   "file_extension": ".py",
   "mimetype": "text/x-python",
   "name": "python",
   "nbconvert_exporter": "python",
   "pygments_lexer": "ipython3",
   "version": "3.11.8"
  }
 },
 "nbformat": 4,
 "nbformat_minor": 5
}
