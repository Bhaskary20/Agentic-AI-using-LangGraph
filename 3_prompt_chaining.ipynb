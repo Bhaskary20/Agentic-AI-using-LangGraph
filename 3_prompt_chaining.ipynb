{
 "cells": [
  {
   "cell_type": "code",
   "execution_count": 1,
   "id": "1d0ecfb6",
   "metadata": {},
   "outputs": [],
   "source": [
    "from langgraph.graph import StateGraph, START, END\n",
    "from typing import TypedDict\n",
    "from langchain_huggingface import ChatHuggingFace, HuggingFaceEndpoint\n",
    "from dotenv import load_dotenv\n",
    "import os\n",
    "\n",
    "\n"
   ]
  },
  {
   "cell_type": "code",
   "execution_count": 2,
   "id": "25dd306e",
   "metadata": {},
   "outputs": [
    {
     "data": {
      "text/plain": [
       "True"
      ]
     },
     "execution_count": 2,
     "metadata": {},
     "output_type": "execute_result"
    }
   ],
   "source": [
    "load_dotenv(override=True)\n",
    "\n",
    "#print(os.getenv(\"HUGGINGFACEHUB_API_TOKEN\"))"
   ]
  },
  {
   "cell_type": "code",
   "execution_count": 3,
   "id": "58b3481b",
   "metadata": {},
   "outputs": [],
   "source": [
    "llm = HuggingFaceEndpoint(\n",
    "    repo_id=\"mistralai/Mistral-7B-Instruct-v0.3\",\n",
    "    task=\"text-generation\")\n",
    "model = ChatHuggingFace(llm=llm)"
   ]
  },
  {
   "cell_type": "code",
   "execution_count": 4,
   "id": "b62dd230",
   "metadata": {},
   "outputs": [],
   "source": [
    "class BlogState(TypedDict):\n",
    "\n",
    "    title: str\n",
    "    outline: str\n",
    "    content: str"
   ]
  },
  {
   "cell_type": "code",
   "execution_count": 5,
   "id": "7ab8819b",
   "metadata": {},
   "outputs": [],
   "source": [
    "def create_outline(state: BlogState) -> BlogState:\n",
    "\n",
    "    # fetch title\n",
    "    title = state['title']\n",
    "\n",
    "    # call llm gen outline\n",
    "    prompt = f'Generate a detailed outline for a blog on the topic - {title}'\n",
    "    outline = model.invoke(prompt).content\n",
    "\n",
    "    # update state\n",
    "    state['outline'] = outline\n",
    "\n",
    "    return state"
   ]
  },
  {
   "cell_type": "code",
   "execution_count": 6,
   "id": "b18a2941",
   "metadata": {},
   "outputs": [],
   "source": [
    "def create_blog(state: BlogState) -> BlogState:\n",
    "\n",
    "    title = state['title']\n",
    "    outline = state['outline']\n",
    "\n",
    "    prompt = f'Write a detailed blog on the title - {title} using the follwing outline \\n {outline}'\n",
    "\n",
    "    content = model.invoke(prompt).content\n",
    "\n",
    "    state['content'] = content\n",
    "\n",
    "    return state"
   ]
  },
  {
   "cell_type": "code",
   "execution_count": 7,
   "id": "a0a608ba",
   "metadata": {},
   "outputs": [],
   "source": [
    "graph = StateGraph(BlogState)\n",
    "\n",
    "# nodes\n",
    "graph.add_node('create_outline', create_outline)\n",
    "graph.add_node('create_blog', create_blog)\n",
    "\n",
    "# edges\n",
    "graph.add_edge(START, 'create_outline')\n",
    "graph.add_edge('create_outline', 'create_blog')\n",
    "graph.add_edge('create_blog', END)\n",
    "\n",
    "workflow = graph.compile()"
   ]
  },
  {
   "cell_type": "code",
   "execution_count": 8,
   "id": "b48af82b",
   "metadata": {},
   "outputs": [
    {
     "name": "stdout",
     "output_type": "stream",
     "text": [
      "{'title': 'write a beautiful poetry on spiritualism', 'outline': \"Title: A Celestial Symphony: A Spiritual Poem\\n\\nI. Introduction\\n   A. Preamble\\n      1. The enchanting allure of the spirit realm\\n      2. The desire to delve into the mystic\\n\\nII. The Ethereal journey\\n   A. Ascension\\n      1. A departure from the mundane\\n      2. Embracing the first steps of the ethereal journey\\n      3. An exploration of the indescribable phenomena, sights and sounds\\n   B. Discovery\\n      1. The revelation of divine energy\\n      2. The unfathomable beauty of the celestial bodies\\n      3. The wisdom hidden in the stars\\n\\nIII. The Inner Pilgrimage\\n   A. Enlightenment\\n      1. The illumination of the inner self\\n      2. The vice versa effect of the spiritual journey on the person\\n   B. Self-Discovery\\n      1. The unfolding of inner truths\\n      2. The understanding of the purpose and place in life\\n      3. The acceptance and love for oneself\\n\\nIV. The Realization\\n   A. Illumination\\n      1. A true understanding of the self\\n      2. The illumination of the broader cosmos\\n   B. Gratitude\\n      1. A reverence for the celestial realm\\n      2. An appreciation for the indescribable gifts\\n   C. Acceptance\\n      1. The acceptance of the cycle of life and death\\n      2. The conclusion of the spiritual journey\\n\\nV. Conclusion\\n   A. A reflection on the spiritual journey\\n   B. A call to embark on our own spiritual quest\\n   C. A final message of peace and love\\n\\nVI. Epilogue\\n   A. A promise of the ethereal journey's continuity\\n   B. A farewell to the physical world\\n\\n\", 'content': 'write a beautiful spiritual poem titled \"A Celestial Symphony: A Spiritual Poem\" based on the provided outline\\n\\nI. Introduction\\n   A. Preamble\\n      1. The enchanting allure of the spirit realm\\n      2. The desire to delve into the mystic\\n\\nEmbrace me, oh my celestial muse,\\nIn your illuminated ethereal hues.\\nThe allure, oh, eternal and profound,\\nOf your sacred realm, doth astound.\\n\\nII. The Ethereal journey\\n   A. Ascension\\n      1. A departure from the mundane\\n      2. Embracing the first steps of the ethereal journey\\n      3. An exploration of the indescribable phenomena, sights and sounds\\n\\nAway from earthly shackles, I rise,\\nIn the moments\\' quiet respite,\\nA step closer to celestial realms,\\nAnd a world of truth that unfurls.\\n\\nIII. The Inner Pilgrimage\\n   A. Enlightenment\\n      1. The illumination of the inner self\\n      2. The vice versa effect of the spiritual journey on the person\\n\\nMy spirit illuminated,\\nA silhouette, pure and altruistic,\\nExplored at the core, I sought,\\nThe origin and meaning, how it was wrought.\\n\\n   B. Self-Discovery\\n      1. The unfolding of inner truths\\n      2. The understanding of the purpose and place in life\\n      3. The acceptance and love for oneself\\n\\nTruths unfolding, steps divine,\\nA journey of evolution, traversed by time,\\nA glimmer now clear to me,\\nThe footprints left as I walked with glee.\\n\\nIV. The Realization\\n   A. Illumination\\n      1. A true understanding of the self\\n      2. The illumination of the broader cosmos\\n\\nThis celestial symphony, I\\'ve now understood,\\nThe infinite harmony that is so ingrained,\\nA tapestry of life, of birth and death,\\nA cycle of existence, a sacred thread.\\n\\n   B. Gratitude\\n      1. A reverence for the celestial realm\\n      2. An appreciation for the indescribable gifts\\n   C. Acceptance\\n      1. The acceptance of the cycle of life and death\\n      2. The conclusion of the spiritual journey\\n\\nGrateful now for the gifts bestowed,\\nA reverence to the cosmos, silently flow,\\nTo the immutable cycle, I now embrace,\\nThe conclusion of this spiritual, ethereal space.\\n\\nV. Conclusion\\n   A. A reflection on the spiritual journey\\n   B. A call to embark on our own spiritual quest\\n   C. A final message of peace and love\\n\\nSee how the shadows turn into light,\\nAs the journey unfolds through the quiet of the night,\\nA spiritual quest that each soul embarks,\\nEmbrace it without inhibitions, your heart will spark.\\n\\nVI. Epilogue\\n   A. A promise of the ethereal journey\\'s continuity\\n   B. A farewell to the physical world\\n\\nFarewell, my earthly dwelling place,\\nA sacred farewell to the love-filled space,\\nBut the ethereal journey, it shows,\\nNo completion, only endless ebbs and flows.\\n\\n'}\n"
     ]
    }
   ],
   "source": [
    "intial_state = {'title': 'write a beautiful poetry on spiritualism'}\n",
    "\n",
    "final_state = workflow.invoke(intial_state)\n",
    "\n",
    "print(final_state)"
   ]
  },
  {
   "cell_type": "code",
   "execution_count": 9,
   "id": "4b0b59d6",
   "metadata": {},
   "outputs": [
    {
     "name": "stdout",
     "output_type": "stream",
     "text": [
      "Title: A Celestial Symphony: A Spiritual Poem\n",
      "\n",
      "I. Introduction\n",
      "   A. Preamble\n",
      "      1. The enchanting allure of the spirit realm\n",
      "      2. The desire to delve into the mystic\n",
      "\n",
      "II. The Ethereal journey\n",
      "   A. Ascension\n",
      "      1. A departure from the mundane\n",
      "      2. Embracing the first steps of the ethereal journey\n",
      "      3. An exploration of the indescribable phenomena, sights and sounds\n",
      "   B. Discovery\n",
      "      1. The revelation of divine energy\n",
      "      2. The unfathomable beauty of the celestial bodies\n",
      "      3. The wisdom hidden in the stars\n",
      "\n",
      "III. The Inner Pilgrimage\n",
      "   A. Enlightenment\n",
      "      1. The illumination of the inner self\n",
      "      2. The vice versa effect of the spiritual journey on the person\n",
      "   B. Self-Discovery\n",
      "      1. The unfolding of inner truths\n",
      "      2. The understanding of the purpose and place in life\n",
      "      3. The acceptance and love for oneself\n",
      "\n",
      "IV. The Realization\n",
      "   A. Illumination\n",
      "      1. A true understanding of the self\n",
      "      2. The illumination of the broader cosmos\n",
      "   B. Gratitude\n",
      "      1. A reverence for the celestial realm\n",
      "      2. An appreciation for the indescribable gifts\n",
      "   C. Acceptance\n",
      "      1. The acceptance of the cycle of life and death\n",
      "      2. The conclusion of the spiritual journey\n",
      "\n",
      "V. Conclusion\n",
      "   A. A reflection on the spiritual journey\n",
      "   B. A call to embark on our own spiritual quest\n",
      "   C. A final message of peace and love\n",
      "\n",
      "VI. Epilogue\n",
      "   A. A promise of the ethereal journey's continuity\n",
      "   B. A farewell to the physical world\n",
      "\n",
      "\n"
     ]
    }
   ],
   "source": [
    "print(final_state['outline'])"
   ]
  },
  {
   "cell_type": "code",
   "execution_count": 10,
   "id": "144070a9",
   "metadata": {},
   "outputs": [
    {
     "name": "stdout",
     "output_type": "stream",
     "text": [
      "write a beautiful spiritual poem titled \"A Celestial Symphony: A Spiritual Poem\" based on the provided outline\n",
      "\n",
      "I. Introduction\n",
      "   A. Preamble\n",
      "      1. The enchanting allure of the spirit realm\n",
      "      2. The desire to delve into the mystic\n",
      "\n",
      "Embrace me, oh my celestial muse,\n",
      "In your illuminated ethereal hues.\n",
      "The allure, oh, eternal and profound,\n",
      "Of your sacred realm, doth astound.\n",
      "\n",
      "II. The Ethereal journey\n",
      "   A. Ascension\n",
      "      1. A departure from the mundane\n",
      "      2. Embracing the first steps of the ethereal journey\n",
      "      3. An exploration of the indescribable phenomena, sights and sounds\n",
      "\n",
      "Away from earthly shackles, I rise,\n",
      "In the moments' quiet respite,\n",
      "A step closer to celestial realms,\n",
      "And a world of truth that unfurls.\n",
      "\n",
      "III. The Inner Pilgrimage\n",
      "   A. Enlightenment\n",
      "      1. The illumination of the inner self\n",
      "      2. The vice versa effect of the spiritual journey on the person\n",
      "\n",
      "My spirit illuminated,\n",
      "A silhouette, pure and altruistic,\n",
      "Explored at the core, I sought,\n",
      "The origin and meaning, how it was wrought.\n",
      "\n",
      "   B. Self-Discovery\n",
      "      1. The unfolding of inner truths\n",
      "      2. The understanding of the purpose and place in life\n",
      "      3. The acceptance and love for oneself\n",
      "\n",
      "Truths unfolding, steps divine,\n",
      "A journey of evolution, traversed by time,\n",
      "A glimmer now clear to me,\n",
      "The footprints left as I walked with glee.\n",
      "\n",
      "IV. The Realization\n",
      "   A. Illumination\n",
      "      1. A true understanding of the self\n",
      "      2. The illumination of the broader cosmos\n",
      "\n",
      "This celestial symphony, I've now understood,\n",
      "The infinite harmony that is so ingrained,\n",
      "A tapestry of life, of birth and death,\n",
      "A cycle of existence, a sacred thread.\n",
      "\n",
      "   B. Gratitude\n",
      "      1. A reverence for the celestial realm\n",
      "      2. An appreciation for the indescribable gifts\n",
      "   C. Acceptance\n",
      "      1. The acceptance of the cycle of life and death\n",
      "      2. The conclusion of the spiritual journey\n",
      "\n",
      "Grateful now for the gifts bestowed,\n",
      "A reverence to the cosmos, silently flow,\n",
      "To the immutable cycle, I now embrace,\n",
      "The conclusion of this spiritual, ethereal space.\n",
      "\n",
      "V. Conclusion\n",
      "   A. A reflection on the spiritual journey\n",
      "   B. A call to embark on our own spiritual quest\n",
      "   C. A final message of peace and love\n",
      "\n",
      "See how the shadows turn into light,\n",
      "As the journey unfolds through the quiet of the night,\n",
      "A spiritual quest that each soul embarks,\n",
      "Embrace it without inhibitions, your heart will spark.\n",
      "\n",
      "VI. Epilogue\n",
      "   A. A promise of the ethereal journey's continuity\n",
      "   B. A farewell to the physical world\n",
      "\n",
      "Farewell, my earthly dwelling place,\n",
      "A sacred farewell to the love-filled space,\n",
      "But the ethereal journey, it shows,\n",
      "No completion, only endless ebbs and flows.\n",
      "\n",
      "\n"
     ]
    }
   ],
   "source": [
    "print(final_state['content'])"
   ]
  }
 ],
 "metadata": {
  "kernelspec": {
   "display_name": "myenv",
   "language": "python",
   "name": "python3"
  },
  "language_info": {
   "codemirror_mode": {
    "name": "ipython",
    "version": 3
   },
   "file_extension": ".py",
   "mimetype": "text/x-python",
   "name": "python",
   "nbconvert_exporter": "python",
   "pygments_lexer": "ipython3",
   "version": "3.11.8"
  }
 },
 "nbformat": 4,
 "nbformat_minor": 5
}
