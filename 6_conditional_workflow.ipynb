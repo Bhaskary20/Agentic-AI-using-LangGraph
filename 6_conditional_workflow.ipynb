{
 "cells": [
  {
   "cell_type": "code",
   "execution_count": 63,
   "id": "da213d42",
   "metadata": {},
   "outputs": [],
   "source": [
    "from langgraph.graph import StateGraph, START, END\n",
    "from typing import TypedDict, Literal"
   ]
  },
  {
   "cell_type": "code",
   "execution_count": 64,
   "id": "344defde",
   "metadata": {},
   "outputs": [],
   "source": [
    "class QuadState(TypedDict):\n",
    "\n",
    "    a: int\n",
    "    b: int  \n",
    "    c: int\n",
    "\n",
    "    equation: str\n",
    "    discriminant: float\n",
    "    result: str"
   ]
  },
  {
   "cell_type": "code",
   "execution_count": 65,
   "id": "721eb659",
   "metadata": {},
   "outputs": [],
   "source": [
    "def show_equation(state: QuadState):\n",
    "    equation=f\"{state['a']}x^2 +{state['b']}x + {state['c']}\"\n",
    "    return({'equation': equation})\n",
    "\n",
    "\n",
    "def calculate_discriminant(state: QuadState):\n",
    "    discriminant= state['b']**2-4*state['a']*state['c']\n",
    "    return({'discriminant': discriminant})"
   ]
  },
  {
   "cell_type": "code",
   "execution_count": 66,
   "id": "2481a27e",
   "metadata": {},
   "outputs": [],
   "source": [
    "def real_roots(state: QuadState):\n",
    "\n",
    "    root1= (-state['b']+(state['discriminant'])**0.5)/(2*state['a'])\n",
    "    root2= (-state['b']-(state['discriminant'])**0.5)/(2*state['a'])\n",
    "\n",
    "    result=f\"The roots of the equation {state['equation']} are real and different: \\n root1={root1}, root2={root2}\"\n",
    "\n",
    "\n",
    "def repeated_roots(start: QuadState):\n",
    "\n",
    "    root=(-state['b'])/(2*state['a'])\n",
    "    result= f\"The only repeating root is {root}\"\n",
    "    return({'result': result})\n",
    "\n",
    "\n",
    "def no_real_roots(start: QuadState):\n",
    "\n",
    "    result= f\"No real roots\"\n",
    "    return({'result': result})\n",
    "\n",
    "\n"
   ]
  },
  {
   "cell_type": "code",
   "execution_count": 67,
   "id": "d9f99e3d",
   "metadata": {},
   "outputs": [],
   "source": [
    "def check_condition(State: QuadState) -> Literal['no_real_roots', 'repeated_roots', 'real_roots']:\n",
    "    if State['discriminant']>0:\n",
    "        return 'no_real_roots'\n",
    "    elif State['discriminant']==0:\n",
    "        return 'repeated_roots'\n",
    "    else:\n",
    "        return 'real_roots'"
   ]
  },
  {
   "cell_type": "code",
   "execution_count": 68,
   "id": "ddefcbe2",
   "metadata": {},
   "outputs": [],
   "source": [
    "graph= StateGraph(QuadState)\n",
    "\n",
    "graph.add_node('show_equation', show_equation)\n",
    "graph.add_node('calculate_discriminant', calculate_discriminant)\n",
    "graph.add_node('no_real_roots', no_real_roots)\n",
    "graph.add_node('real_roots', real_roots)\n",
    "graph.add_node('repeated_roots', repeated_roots)\n",
    "\n",
    "graph.add_edge(START, 'show_equation')\n",
    "graph.add_edge('show_equation', 'calculate_discriminant')\n",
    "graph.add_conditional_edges('calculate_discriminant', check_condition)\n",
    "graph.add_edge('real_roots', END)\n",
    "graph.add_edge('no_real_roots', END)\n",
    "graph.add_edge('repeated_roots', END)\n",
    "\n",
    "workflow=graph.compile()"
   ]
  },
  {
   "cell_type": "code",
   "execution_count": 69,
   "id": "20317dc1",
   "metadata": {},
   "outputs": [
    {
     "name": "stdout",
     "output_type": "stream",
     "text": [
      "{'a': 1, 'b': -3, 'c': 2, 'equation': '1x^2 +-3x + 2', 'discriminant': 1, 'result': 'No real roots'}\n"
     ]
    }
   ],
   "source": [
    "initial_state={\n",
    "    'a': 1,\n",
    "    'b': -3,\n",
    "    'c': 2\n",
    "}\n",
    "\n",
    "final_state=workflow.invoke(initial_state)\n",
    "print(final_state)\n"
   ]
  }
 ],
 "metadata": {
  "kernelspec": {
   "display_name": "myenv",
   "language": "python",
   "name": "python3"
  },
  "language_info": {
   "codemirror_mode": {
    "name": "ipython",
    "version": 3
   },
   "file_extension": ".py",
   "mimetype": "text/x-python",
   "name": "python",
   "nbconvert_exporter": "python",
   "pygments_lexer": "ipython3",
   "version": "3.11.8"
  }
 },
 "nbformat": 4,
 "nbformat_minor": 5
}
